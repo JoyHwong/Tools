{
 "cells": [
  {
   "cell_type": "markdown",
   "metadata": {},
   "source": [
    "## Import required lib"
   ]
  },
  {
   "cell_type": "code",
   "execution_count": null,
   "metadata": {},
   "outputs": [],
   "source": [
    "import requests\n",
    "import re\n",
    "from bs4 import BeautifulSoup\n",
    "from movie import Movie"
   ]
  },
  {
   "cell_type": "markdown",
   "metadata": {},
   "source": [
    "## define get_movies_from_douban\n",
    "it will send some requests to douban for get the top250 movies"
   ]
  },
  {
   "cell_type": "code",
   "execution_count": null,
   "metadata": {},
   "outputs": [],
   "source": [
    "def get_movies_from_douban():\n",
    "    headers = {\n",
    "        'user-agent': 'Mozilla/5.0 (Macintosh; Intel Mac OS X 10_13_5) AppleWebKit/537.36 (KHTML, like Gecko) Chrome/67.0.3396.99 Safari/537.36',\n",
    "        'host': 'movie.douban.com'\n",
    "    }\n",
    "    movie_list = []\n",
    "    for i in range(0, 10):\n",
    "        link = \"https://movie.douban.com/top250?start=\" + str(i * 25)\n",
    "        r = requests.get(link, headers=headers, timeout=10)\n",
    "        soup = BeautifulSoup(r.text, \"html.parser\")\n",
    "        item_list = soup.find_all(\"div\", class_=\"item\")\n",
    "        for each in item_list:\n",
    "            title = each.select(\".hd\")[0].a.select(\".title\")[0].text\n",
    "            year = re.findall(\"[0-9]{4}\", each.select(\".bd\")[0].p.text)\n",
    "            rating_num = each.select(\".rating_num\")[0].text\n",
    "            movie_list.append(Movie(title, year[0], rating_num))\n",
    "    return movie_list"
   ]
  },
  {
   "cell_type": "code",
   "execution_count": null,
   "metadata": {},
   "outputs": [],
   "source": [
    "for movie in get_movies_from_douban():\n",
    "    print(movie.title, movie.year, movie.rating_num)"
   ]
  }
 ],
 "metadata": {
  "kernelspec": {
   "display_name": "Python 3",
   "language": "python",
   "name": "python3"
  },
  "language_info": {
   "codemirror_mode": {
    "name": "ipython",
    "version": 3
   },
   "file_extension": ".py",
   "mimetype": "text/x-python",
   "name": "python",
   "nbconvert_exporter": "python",
   "pygments_lexer": "ipython3",
   "version": "3.6.5"
  }
 },
 "nbformat": 4,
 "nbformat_minor": 1
}
